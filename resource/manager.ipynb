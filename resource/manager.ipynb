{
 "cells": [
  {
   "cell_type": "code",
   "execution_count": 31,
   "metadata": {},
   "outputs": [
    {
     "name": "stdout",
     "output_type": "stream",
     "text": [
      "3853419007105160\n"
     ]
    }
   ],
   "source": [
    "from google.cloud import pubsub_v1\n",
    "import os\n",
    "import json\n",
    "\n",
    "os.environ[\"GOOGLE_APPLICATION_CREDENTIALS\"] = \"./lucetre-github-io.json\"\n",
    "project_id = \"lucetre-github-io\"\n",
    "topic_id = \"music\"\n",
    "\n",
    "publisher = pubsub_v1.PublisherClient()\n",
    "topic_path = publisher.topic_path(project_id, topic_id)\n",
    "\n",
    "data = {\n",
    "  \"data1\": 1\n",
    "}\n",
    "\n",
    "attributes = {\"attr\": \"attr-value\"}\n",
    "bytes = json.dumps(data).encode(\"utf-8\")\n",
    "future = publisher.publish(topic_path, bytes, **attributes)\n",
    "msg_id = future.result()\n",
    "print(msg_id)\n"
   ]
  },
  {
   "cell_type": "code",
   "execution_count": 32,
   "metadata": {},
   "outputs": [
    {
     "name": "stdout",
     "output_type": "stream",
     "text": [
      "Message {\n",
      "  data: b'{\"data1\": 1}'\n",
      "  ordering_key: ''\n",
      "  attributes: {\n",
      "    \"attr\": \"attr-value\"\n",
      "  }\n",
      "}\n"
     ]
    }
   ],
   "source": [
    "subscriber = pubsub_v1.SubscriberClient()\n",
    "subscription_path = f'projects/{project_id}/subscriptions/{topic_id}-sub'\n",
    "\n",
    "def callback(message):\n",
    "  print(message)\n",
    "  message.ack()\n",
    "\n",
    "with pubsub_v1.SubscriberClient() as subscriber:\n",
    "  future = subscriber.subscribe(subscription_path, callback)\n",
    "  try:\n",
    "      future.result()\n",
    "  except KeyboardInterrupt:\n",
    "      future.cancel()\n",
    "    "
   ]
  }
 ],
 "metadata": {
  "interpreter": {
   "hash": "aee8b7b246df8f9039afb4144a1f6fd8d2ca17a180786b69acc140d282b71a49"
  },
  "kernelspec": {
   "display_name": "Python 3.9.9 64-bit",
   "language": "python",
   "name": "python3"
  },
  "language_info": {
   "codemirror_mode": {
    "name": "ipython",
    "version": 3
   },
   "file_extension": ".py",
   "mimetype": "text/x-python",
   "name": "python",
   "nbconvert_exporter": "python",
   "pygments_lexer": "ipython3",
   "version": "3.9.9"
  },
  "orig_nbformat": 4
 },
 "nbformat": 4,
 "nbformat_minor": 2
}
